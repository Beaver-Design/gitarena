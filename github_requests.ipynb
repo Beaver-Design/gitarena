{
 "cells": [
  {
   "cell_type": "code",
   "execution_count": 1,
   "metadata": {
    "collapsed": false
   },
   "outputs": [],
   "source": [
    "import json\n",
    "import requests\n",
    "import config\n",
    "import re\n",
    "\n",
    "def getRequest(url, username, password, parameters = {}, debug = False): \n",
    "    r = requests.get(url, params=parameters, auth=(username, password))\n",
    "    if debug:\n",
    "        print('Status Code: %i'%r.status_code)\n",
    "    return r\n",
    "\n",
    "\n",
    "def getRequestJson(url, username, password, parameters = {}, debug = False, drill = False): \n",
    "    print(url)\n",
    "    r = requests.get(url, params=parameters, auth=(username, password))\n",
    "    if debug:\n",
    "        print('Status Code: %i'%r.status_code)\n",
    "    if not drill:\n",
    "        return r.json()\n",
    "    else:\n",
    "        page_count = findPageCount(r.links)\n",
    "        if page_count == 1:\n",
    "            return r.json()\n",
    "        current_page = findCurrentPage(url)\n",
    "        if debug:\n",
    "            print('page: %i of %i'%(current_page, page_count))\n",
    "        if page_count == current_page:\n",
    "            return r.json()\n",
    "        else:\n",
    "            return r.json() + getRequestJson(r.links['next']['url'], username, password, parameters, debug, drill)\n",
    "        \n",
    "def headRequest(url, username, password, parameters = {}, debug = False): \n",
    "    r = requests.head(url, params=parameters, auth=(username, password))\n",
    "    if degug:\n",
    "        print('Status Code: %i'%r.status_code)\n",
    "    return r\n",
    "\n",
    "def findPageCount(links, search = 'page=([^,]+)'):\n",
    "    if not links:\n",
    "        return 1\n",
    "    try:\n",
    "        match = re.search(search, links['last']['url'])\n",
    "        if match:\n",
    "            count = int(match.group(1))\n",
    "            return count\n",
    "        else:\n",
    "            return False\n",
    "    except KeyError:\n",
    "        print('should be the last one' + json.dumps(links))\n",
    "        match = re.search(search, links['prev']['url'])\n",
    "        if match:\n",
    "            count = int(match.group(1)) + 1\n",
    "            return count\n",
    "        else:\n",
    "            return False\n",
    "\n",
    "def findCurrentPage(url, search = 'page=([^,]+)'):\n",
    "    if 'page=' in url:\n",
    "        match = re.search(search, url)\n",
    "        if match:\n",
    "            count = int(match.group(1))\n",
    "            return count\n",
    "        else:\n",
    "            return False\n",
    "    else:\n",
    "        return 1\n",
    "    \n",
    "def formMilestoneByRepoUrl(base, owner, repo):\n",
    "    return('%s/repos/%s/%s/milestones'%(base, owner, repo))"
   ]
  },
  {
   "cell_type": "code",
   "execution_count": 2,
   "metadata": {
    "collapsed": false
   },
   "outputs": [
    {
     "name": "stdout",
     "output_type": "stream",
     "text": [
      "https://api.github.com/orgs/Beaver-Design/teams\n",
      "Construction\n",
      "Debris Collection\n",
      "Engineering\n",
      "Environmental Monitoring\n"
     ]
    }
   ],
   "source": [
    "teams = getRequestJson(config.URL_TEAMS, config.USER, config.TOKEN, drill = True)\n",
    "for team in teams:\n",
    "    print(team['name'])"
   ]
  },
  {
   "cell_type": "code",
   "execution_count": 3,
   "metadata": {
    "collapsed": false,
    "scrolled": false
   },
   "outputs": [
    {
     "name": "stdout",
     "output_type": "stream",
     "text": [
      "https://api.github.com/orgs/Beaver-Design/repos\n",
      "github-organizer\n"
     ]
    }
   ],
   "source": [
    "repos = getRequestJson(config.URL_REPOS, config.USER, config.TOKEN, drill = True)\n",
    "for repo in repos:\n",
    "    print(repo['name'])"
   ]
  },
  {
   "cell_type": "code",
   "execution_count": 4,
   "metadata": {
    "collapsed": false
   },
   "outputs": [],
   "source": [
    "milestones = []\n",
    "for repo in repos:\n",
    "    url = formMilestoneByRepoUrl(config.URL_BASE, config.ORG, repo['name'])\n",
    "    r = getRequest(url, config.USER, config.TOKEN)\n",
    "    milestones+=r.json()"
   ]
  },
  {
   "cell_type": "code",
   "execution_count": 5,
   "metadata": {
    "collapsed": false,
    "scrolled": false
   },
   "outputs": [
    {
     "name": "stdout",
     "output_type": "stream",
     "text": [
      "get'r done\n"
     ]
    }
   ],
   "source": [
    "for milestone in milestones:\n",
    "    print(milestone['title'])"
   ]
  },
  {
   "cell_type": "code",
   "execution_count": 6,
   "metadata": {
    "collapsed": false,
    "scrolled": false
   },
   "outputs": [
    {
     "name": "stdout",
     "output_type": "stream",
     "text": [
      "https://api.github.com/orgs/Beaver-Design/issues\n",
      "0 Needs more milestones\n",
      "1 Needs more colors\n",
      "2 Needs more levels\n"
     ]
    }
   ],
   "source": [
    "parameters = {'filter':'all'}\n",
    "issues = getRequestJson(config.URL_ISSUES, config.USER, config.TOKEN, parameters, drill = True)\n",
    "for index, issue in enumerate(issues):\n",
    "    print(index, issue['title'])\n",
    "    "
   ]
  },
  {
   "cell_type": "code",
   "execution_count": 7,
   "metadata": {
    "collapsed": false
   },
   "outputs": [
    {
     "name": "stdout",
     "output_type": "stream",
     "text": [
      "Total open issue count: 3\n"
     ]
    }
   ],
   "source": [
    "url = r'https://api.github.com/search/issues?q=user:Beaver-Design+state:open'\n",
    "issue_count = getRequest(url,  config.USER, config.TOKEN)\n",
    "total_count = issue_count.json()['total_count']\n",
    "print('Total open issue count: %i'%total_count)"
   ]
  }
 ],
 "metadata": {
  "kernelspec": {
   "display_name": "Python 3",
   "language": "python",
   "name": "python3"
  },
  "language_info": {
   "codemirror_mode": {
    "name": "ipython",
    "version": 3
   },
   "file_extension": ".py",
   "mimetype": "text/x-python",
   "name": "python",
   "nbconvert_exporter": "python",
   "pygments_lexer": "ipython3",
   "version": "3.5.1"
  }
 },
 "nbformat": 4,
 "nbformat_minor": 0
}
